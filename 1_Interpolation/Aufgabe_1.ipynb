{
 "cells": [
  {
   "cell_type": "markdown",
   "metadata": {},
   "source": [
    "# **Aufgabe 1 - Temperaturabhängige Luftdichte**\n",
    "\n",
    "Die Dichte von Luft bei 1 bar Umgebungsdruck ist indirekt Proportional zur Temperatur. Dieser Zusammenhang ist für einige Temperaturwerte in folgender Abbildung dargestellt:\n",
    "\n",
    "![alt text](Abbildungen/plot_density.png)\n",
    "\n",
    "Mathematisch wird dieser Zusammenhang mit der idealen Gasgleichung beschrieben:\n",
    "\n",
    "$$ \\rho = \\frac{p}{R_S \\, T} $$\n",
    "\n",
    "mit der Luftdichte $\\rho$, dem Druck $p$, der spezifischen Gaskonstante für Luft $R_S$ und der Temperatur T. Gehen Sie im Rahmen dieses Belegs von einer spezifischen Gaskonstante von $R_S = 287,06\\,\\text{J/(kg\\,K)}$ und einem Luftdruck von $101\\,325\\,\\text{Pa}$ aus.\n",
    "\n",
    "### **Teilaufgaben**\n",
    "\n",
    "1. Laden Sie die Rhodaten der Luftdichte aus der Datei `dichte.csv` ein und speichern Sie diese in zwei Numpy-Arrays.\n",
    "2. Erstellen Sie eine Funktion, mit deren Hilfe ein beliebiger Wert zwischen zwei Stützstellen linear interpoliert werden kann.\n",
    "3. Interpolieren Sie mit dieser Funktion die Luftdichte bei $T = 260\\,\\text{K}$, $T = 325\\,\\text{K}$ und $T = 490\\,\\text{K}$. Visualisieren Sie die interpolierten Wertepaare und die Ausgangsdaten in einem Diagramm. Achten Sie darauf, dass die interpolierten Werte und Originaldaten unterschiedlich farblich gekennzeichnet sind.\n",
    "4. Nutzen Sie die ideale Gasgleichung, um für die drei interpolierten Dichtewerte den relativen Fehler durch die lineare Interpolation zu bestimmen."
   ]
  },
  {
   "cell_type": "markdown",
   "metadata": {},
   "source": [
    "### **Lösung**"
   ]
  },
  {
   "cell_type": "code",
   "execution_count": 2,
   "metadata": {},
   "outputs": [
    {
     "name": "stdout",
     "output_type": "stream",
     "text": [
      "Die Dichte beträgt für 260 K: 1.412 kg/m³\n",
      "Die Dichte beträgt für 325 K: 1.103 kg/m³\n",
      "Die Dichte beträgt für 490 K: 0.7235 kg/m³\n",
      "Der relative Fehler durch die lineare Interpolation beträgt 4.00%\n",
      "Der relative Fehler durch die lineare Interpolation beträgt 1.56%\n",
      "Der relative Fehler durch die lineare Interpolation beträgt 0.44%\n"
     ]
    }
   ],
   "source": [
    "import numpy as np\n",
    "import matplotlib.pyplot as plt\n",
    "\n",
    "# Teil 1: \n",
    "\n",
    "temperatur, dichte = np.genfromtxt(r\"Daten\\dichte.csv\", delimiter=\",\", unpack=True)\n",
    "\n",
    "# Teil 2: \n",
    "\n",
    "def lineare_interpolation(x):\n",
    "    for index in range(len(temperatur) - 1):\n",
    "        if temperatur[index] <= x <= temperatur[index + 1]:\n",
    "            dichte_neu = (x - temperatur[index]) * (dichte[index + 1] - dichte[index]) / (temperatur[index + 1] - temperatur[index]) + dichte[index]\n",
    "            return dichte_neu\n",
    "    raise ValueError(\"x-Wert liegt nicht zwischen den Stützstellen!\")\n",
    "\n",
    "# Teil 3: \n",
    "temperaturen = [260, 325, 490] # in K\n",
    "for t_k in temperaturen:\n",
    "    try:\n",
    "        dichte_interpoliert = lineare_interpolation(t_k)\n",
    "        print(f\"Die Dichte beträgt für {t_k} K: {dichte_interpoliert:.4} kg/m³\")\n",
    "    except ValueError as e:\n",
    "        print(e)\n",
    "\n",
    "# Teil 4:\n",
    "\n",
    "r_s = 287.06 # Spezifische Gaskonstante in J/(kg K)\n",
    "p = 101325 # Druck in Pa\n",
    "\n",
    "for t_k in temperaturen:\n",
    "    dichte_wahr = p / (r_s * t_k)  \n",
    "    dichte_interpoliert = lineare_interpolation(t_k)  \n",
    "    relativer_fehler = abs((dichte_wahr - dichte_interpoliert) / dichte_wahr) * 100  \n",
    "    print(f\"Der relative Fehler durch die lineare Interpolation beträgt {relativer_fehler:.2f}%\")\n",
    "\n"
   ]
  }
 ],
 "metadata": {
  "kernelspec": {
   "display_name": "base",
   "language": "python",
   "name": "python3"
  },
  "language_info": {
   "codemirror_mode": {
    "name": "ipython",
    "version": 3
   },
   "file_extension": ".py",
   "mimetype": "text/x-python",
   "name": "python",
   "nbconvert_exporter": "python",
   "pygments_lexer": "ipython3",
   "version": "3.11.5"
  }
 },
 "nbformat": 4,
 "nbformat_minor": 2
}

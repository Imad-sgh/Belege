{
 "cells": [
  {
   "cell_type": "markdown",
   "metadata": {},
   "source": [
    "# **Aufgabe 1 - Temperaturabhängige Luftdichte**\n",
    "\n",
    "Die Dichte von Luft bei 1 bar Umgebungsdruck ist indirekt Proportional zur Temperatur. Dieser Zusammenhang ist für einige Temperaturwerte in folgender Abbildung dargestellt:\n",
    "\n",
    "![alt text](Abbildungen/plot_density.png)\n",
    "\n",
    "Mathematisch wird dieser Zusammenhang mit der idealen Gasgleichung beschrieben:\n",
    "\n",
    "$$ \\rho = \\frac{p}{R_S \\, T} $$\n",
    "\n",
    "mit der Luftdichte $\\rho$, dem Druck $p$, der spezifischen Gaskonstante für Luft $R_S$ und der Temperatur T. Gehen Sie im Rahmen dieses Belegs von einer spezifischen Gaskonstante von $R_S = 287,06\\,\\text{J/(kg\\,K)}$ und einem Luftdruck von $101\\,325\\,\\text{Pa}$ aus.\n",
    "\n",
    "### **Teilaufgaben**\n",
    "\n",
    "1. Laden Sie die Rhodaten der Luftdichte aus der Datei `dichte.csv` ein und speichern Sie diese in zwei Numpy-Arrays.\n",
    "2. Erstellen Sie eine Funktion, mit deren Hilfe ein beliebiger Wert zwischen zwei Stützstellen linear interpoliert werden kann.\n",
    "3. Interpolieren Sie mit dieser Funktion die Luftdichte bei $T = 260\\,\\text{K}$, $T = 325\\,\\text{K}$ und $T = 490\\,\\text{K}$. Visualisieren Sie die interpolierten Wertepaare und die Ausgangsdaten in einem Diagramm. Achten Sie darauf, dass die interpolierten Werte und Originaldaten unterschiedlich farblich gekennzeichnet sind.\n",
    "4. Nutzen Sie die ideale Gasgleichung, um für die drei interpolierten Dichtewerte den relativen Fehler durch die lineare Interpolation zu bestimmen."
   ]
  },
  {
   "cell_type": "markdown",
   "metadata": {},
   "source": [
    "### **Lösung**"
   ]
  },
  {
   "cell_type": "code",
   "execution_count": null,
   "metadata": {},
   "outputs": [],
   "source": [
    "import numpy as np\n",
    "import matplotlib.pyplot as plt\n",
    "\n",
    "# Teil 1: die Rohdaten der Luftdichte aus der Datei dichte.csv laden und speichern\n",
    "temperatur, dichte = np.genfromtxt(\"dichte.csv\", delimiter=\",\", unpack=True)\n",
    "\n",
    "# Teil 2: Funktion erstellen, die zwischen zwei Stützstellen interpoliert\n",
    "def lineare_interpolation(x):\n",
    "    for index in range(len(temperatur) - 1):\n",
    "        if temperatur[index] <= x <= temperatur[index + 1]:  # Bedingung: x muss zwischen zwei Stützstellen sein\n",
    "            dichte_neu = (x - temperatur[index]) * (dichte[index + 1] - dichte[index]) / (temperatur[index + 1] - temperatur[index]) + dichte[index]\n",
    "            return dichte_neu\n",
    "    raise ValueError(\"x-Wert liegt nicht zwischen den Stützstellen!\")  # Fehlermeldung, falls Bedingung nicht erfüllt\n",
    "\n",
    "# Teil 3: Interpolation und Visualisierung\n",
    "\n",
    "# Gegebene Temperaturen \n",
    "temperaturen_interp = [260, 325, 490] # Einheit K\n",
    "dichten_interp = [] # Einheit kg/m³\n",
    "\n",
    "# Interpolation\n",
    "for T in temperaturen_interp:\n",
    "    dichte_interpoliert = lineare_interpolation(T)\n",
    "    dichten_interp.append(dichte_interpoliert)\n",
    "\n",
    "# Visualisierung\n",
    "plt.figure(figsize=(10, 6))\n",
    "plt.plot(temperatur, dichte, 'o-', label='Originaldaten', color='blue')\n",
    "plt.plot(temperaturen_interp, dichten_interp, 'x', label='Interpolierte Werte', color='red')\n",
    "\n",
    "plt.xlabel('Temperatur (K)')\n",
    "plt.ylabel('Luftdichte (kg/m³)')\n",
    "plt.title('Interpolation der Luftdichte')\n",
    "plt.legend()\n",
    "plt.grid()\n",
    "plt.show()\n",
    "\n",
    "# Teil 4 : Relative Fehler\n",
    "\n",
    "# Konstanten\n",
    "p = 101325  # Druck in Pa\n",
    "R_S = 287.06  # spezifische Gaskonstante in J/(kg*K)\n",
    "\n",
    "# Berechnung der Dichten aus der idealen Gasgleichung\n",
    "dichten_ideal = [p / (R_S * T) for T in temperaturen_interp]\n",
    "\n",
    "# Berechnung des relativen Fehlers\n",
    "relative_fehler = [(dichten_interp[i] - dichten_ideal[i]) / dichten_ideal[i] * 100 for i in range(len(dichten_interp))]\n",
    "\n",
    "# Ausgabe der Ergebnisse\n",
    "for i, T in enumerate(temperaturen_interp):\n",
    "    print(f'Temperatur: {T} K, Interpolierte Dichte: {dichten_interp[i]:.2f} kg/m³, Ideale Dichte: {dichten_ideal[i]:.2f} kg/m³, Relativer Fehler: {relative_fehler[i]:.2f}%')\n",
    "    \n",
    "\n",
    "\n"
   ]
  }
 ],
 "metadata": {
  "kernelspec": {
   "display_name": "base",
   "language": "python",
   "name": "python3"
  },
  "language_info": {
   "codemirror_mode": {
    "name": "ipython",
    "version": 3
   },
   "file_extension": ".py",
   "mimetype": "text/x-python",
   "name": "python",
   "nbconvert_exporter": "python",
   "pygments_lexer": "ipython3",
   "version": "3.11.5"
  }
 },
 "nbformat": 4,
 "nbformat_minor": 2
}

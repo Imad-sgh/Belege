{
 "cells": [
  {
   "cell_type": "markdown",
   "metadata": {},
   "source": [
    "# **Aufgabe 2 - Laserintensität**\n",
    "\n",
    "Mit Hilfe von Lasern können z.B. metallische Oberflächen mit einer hohen räumlichen Auflösung bearbeitet werden. Folgende Abbildung stellt die gemessene, örtliche Intensitätverteilung eines Laserstrahls über seinen Radius dar, der für die Oberflächenstrukturierung eingesetzt wird:\n",
    "\n",
    "![alt text](Abbildungen/laser_intensity.png)\n",
    "\n",
    "Die Rohdaten dieser Verteilung sind in der Datei `intensity.csv` im Ordner `Daten` geben.\n",
    "\n",
    "### **Teilaufgaben**\n",
    "\n",
    "1. Will man diese Intensitätverteilung für eine numerische Simulation nutzen, müssen die Datenpunkte auf ein äquidistantes Rechengitter interpoliert werden. Interpolieren Sie die gegebene Intensitätsverteilung linear auf eine örtliche Auflösung von 0,1 µm in einem Intervall 0 - 10 µm. Nutzen Sie dazu *nicht* eine eigen geschriebene Funktion, sondern verwenden Sie die Funktion [`interp()`](https://docs.scipy.org/doc/scipy/tutorial/interpolate/1D.html#tutorial-interpolate-1dsection) aus dem `Numpy`-Modul.\n",
    "2. Erweitern Sie ihr Skript, sodass die Interpolation zusätzlich mit Hilfe der Lagrange Interpolation zur Berechnung höhergradiger Polynome durchgeführt wird.\n",
    "3. Stellen Sie beide Interpolationen in einem Diagramm dar. Welches der beiden Verfahren ist für diese Aufgabe besser geeignet? Begründen Sie ihre Aussage."
   ]
  },
  {
   "cell_type": "markdown",
   "metadata": {},
   "source": [
    "### **Lösung**"
   ]
  }
 ],
 "metadata": {
  "kernelspec": {
   "display_name": "Python 3",
   "language": "python",
   "name": "python3"
  },
  "language_info": {
   "codemirror_mode": {
    "name": "ipython",
    "version": 3
   },
   "file_extension": ".py",
   "mimetype": "text/x-python",
   "name": "python",
   "nbconvert_exporter": "python",
   "pygments_lexer": "ipython3",
   "version": "3.11.2"
  }
 },
 "nbformat": 4,
 "nbformat_minor": 2
}

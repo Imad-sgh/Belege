{
 "cells": [
  {
   "cell_type": "markdown",
   "metadata": {},
   "source": [
    "# **Aufgabe 3 - Temperatursensoren**\n",
    "\n",
    "Die beiden Dateien `sensor_1.csv` und `sensor_2.csv` im Ordner `Daten` enthalten zeitlich aufgelöste Temperaturdaten zweier Sensoren. Für die weitere Verarbeitung der Daten ist es erforderlich, die Temperaturdifferenz zu bestimmen. Dies ist jedoch nicht ohne weiteres möglich, da beide Sensoren mit einer unterschiedlichen Aufnahmerate Daten speichern. Sensor 1 arbeitet mit einer Frequenz von 2 Hz wohingegen Sensor 2 mit 0.5 Hz aufnimmt. In folgendem Diagramm sind die Messwerte dargestellt:\n",
    "\n",
    "![alt text](Abbildungen/plot_temperatur.png)\n",
    "\n",
    "### **Teilaufgaben**\n",
    "\n",
    "1. Interpolieren Sie linear die Temperaturdaten von Sensor 2 auf die Aufnahmefrequenz von Sensor 1. Nutzen Sie diesmal die Funktion [`interpolate.CubicSpline()`](https://docs.scipy.org/doc/scipy/reference/generated/scipy.interpolate.CubicSpline.html) aus dem Modul `SciPy` für eine kubische Interplation (d.h. dritter Ordnung).\n",
    "2. Stellen Sie die Temperaturdifferenz zwischen beiden Sensoren in einem Diagramm dar."
   ]
  },
  {
   "cell_type": "markdown",
   "metadata": {},
   "source": [
    "### **Lösung**"
   ]
  }
 ],
 "metadata": {
  "kernelspec": {
   "display_name": "Python 3",
   "language": "python",
   "name": "python3"
  },
  "language_info": {
   "codemirror_mode": {
    "name": "ipython",
    "version": 3
   },
   "file_extension": ".py",
   "mimetype": "text/x-python",
   "name": "python",
   "nbconvert_exporter": "python",
   "pygments_lexer": "ipython3",
   "version": "3.11.2"
  }
 },
 "nbformat": 4,
 "nbformat_minor": 2
}
